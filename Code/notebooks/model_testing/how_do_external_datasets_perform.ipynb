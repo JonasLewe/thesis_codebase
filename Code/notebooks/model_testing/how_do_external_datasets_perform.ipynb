{
 "cells": [
  {
   "cell_type": "markdown",
   "id": "256434dd",
   "metadata": {},
   "source": [
    "## This dataset tests the current codebase with the cats_vs_dogs dataset and examines if results are reproduceable\n"
   ]
  },
  {
   "cell_type": "code",
   "execution_count": 40,
   "id": "eaab1cb4",
   "metadata": {},
   "outputs": [],
   "source": [
    "import sys\n",
    "ROOT_DIR = '../../../'\n",
    "sys.path.insert(0, ROOT_DIR)"
   ]
  },
  {
   "cell_type": "code",
   "execution_count": 41,
   "id": "80494f20",
   "metadata": {
    "scrolled": true
   },
   "outputs": [],
   "source": [
    "import os\n",
    "from tensorflow.keras.preprocessing.image import ImageDataGenerator"
   ]
  },
  {
   "cell_type": "code",
   "execution_count": 42,
   "id": "21fac10b",
   "metadata": {},
   "outputs": [
    {
     "ename": "ModuleNotFoundError",
     "evalue": "No module named 'metrics'",
     "output_type": "error",
     "traceback": [
      "\u001b[1;31m---------------------------------------------------------------------------\u001b[0m",
      "\u001b[1;31mModuleNotFoundError\u001b[0m                       Traceback (most recent call last)",
      "\u001b[1;32m<ipython-input-42-86b784b32c1b>\u001b[0m in \u001b[0;36m<module>\u001b[1;34m\u001b[0m\n\u001b[1;32m----> 1\u001b[1;33m \u001b[1;32mfrom\u001b[0m \u001b[0mCode\u001b[0m\u001b[1;33m.\u001b[0m\u001b[0msrc\u001b[0m\u001b[1;33m.\u001b[0m\u001b[0mml_base\u001b[0m \u001b[1;32mimport\u001b[0m \u001b[0mseeds\u001b[0m\u001b[1;33m,\u001b[0m \u001b[0mmodels\u001b[0m\u001b[1;33m\u001b[0m\u001b[1;33m\u001b[0m\u001b[0m\n\u001b[0m",
      "\u001b[1;32m~\\Desktop\\Thesis Project Folder\\Code\\src\\ml_base\\models.py\u001b[0m in \u001b[0;36m<module>\u001b[1;34m\u001b[0m\n\u001b[1;32m----> 1\u001b[1;33m \u001b[1;32mfrom\u001b[0m \u001b[0mmetrics\u001b[0m \u001b[1;32mimport\u001b[0m \u001b[0mMETRICS\u001b[0m\u001b[1;33m\u001b[0m\u001b[1;33m\u001b[0m\u001b[0m\n\u001b[0m\u001b[0;32m      2\u001b[0m \u001b[1;32mfrom\u001b[0m \u001b[0mtensorflow\u001b[0m\u001b[1;33m.\u001b[0m\u001b[0mkeras\u001b[0m\u001b[1;33m.\u001b[0m\u001b[0moptimizers\u001b[0m \u001b[1;32mimport\u001b[0m \u001b[0mSGD\u001b[0m\u001b[1;33m,\u001b[0m \u001b[0mAdam\u001b[0m\u001b[1;33m\u001b[0m\u001b[1;33m\u001b[0m\u001b[0m\n\u001b[0;32m      3\u001b[0m \u001b[1;32mfrom\u001b[0m \u001b[0mtensorflow\u001b[0m\u001b[1;33m.\u001b[0m\u001b[0mkeras\u001b[0m\u001b[1;33m.\u001b[0m\u001b[0mmodels\u001b[0m \u001b[1;32mimport\u001b[0m \u001b[0mload_model\u001b[0m\u001b[1;33m,\u001b[0m \u001b[0mModel\u001b[0m\u001b[1;33m,\u001b[0m \u001b[0mSequential\u001b[0m\u001b[1;33m\u001b[0m\u001b[1;33m\u001b[0m\u001b[0m\n\u001b[0;32m      4\u001b[0m \u001b[1;32mfrom\u001b[0m \u001b[0mtensorflow\u001b[0m\u001b[1;33m.\u001b[0m\u001b[0mkeras\u001b[0m\u001b[1;33m.\u001b[0m\u001b[0mapplications\u001b[0m \u001b[1;32mimport\u001b[0m \u001b[0mVGG19\u001b[0m\u001b[1;33m\u001b[0m\u001b[1;33m\u001b[0m\u001b[0m\n\u001b[0;32m      5\u001b[0m \u001b[1;32mfrom\u001b[0m \u001b[0mtensorflow\u001b[0m\u001b[1;33m.\u001b[0m\u001b[0mkeras\u001b[0m\u001b[1;33m.\u001b[0m\u001b[0mlayers\u001b[0m\u001b[1;33m.\u001b[0m\u001b[0mexperimental\u001b[0m\u001b[1;33m.\u001b[0m\u001b[0mpreprocessing\u001b[0m \u001b[1;32mimport\u001b[0m \u001b[0mRescaling\u001b[0m\u001b[1;33m\u001b[0m\u001b[1;33m\u001b[0m\u001b[0m\n",
      "\u001b[1;31mModuleNotFoundError\u001b[0m: No module named 'metrics'"
     ]
    }
   ],
   "source": [
    "from Code.src.ml_base import seeds, models"
   ]
  },
  {
   "cell_type": "code",
   "execution_count": 29,
   "id": "8cbb2e7c",
   "metadata": {},
   "outputs": [],
   "source": [
    "seeds.fix_seeds_keras_style()"
   ]
  },
  {
   "cell_type": "code",
   "execution_count": 30,
   "id": "59d6f33c",
   "metadata": {},
   "outputs": [],
   "source": [
    "DATA_DIR = os.path.join(ROOT_DIR, 'Input_Data', 'other_datasets', 'cats_vs_dogs')\n",
    "IMAGE_SIZE = (224,224)"
   ]
  },
  {
   "cell_type": "code",
   "execution_count": 34,
   "id": "c81d2ac3",
   "metadata": {},
   "outputs": [],
   "source": [
    "# run the test harness for evaluating a model\n",
    "def run_test_harness(img_root_dir, image_size, model_name='base', epochs=50, batch_size=32, index=22, verbose=1):\n",
    "    # define model\n",
    "    if model_name == 'base':\n",
    "        model = models.define_base_model()\n",
    "    elif model_name == 'vgg':\n",
    "        model = models.define_vgg_model()\n",
    "    \n",
    "    # create data generators\n",
    "    train_datagen = ImageDataGenerator(rescale=1.0/255.0,\n",
    "                                       #rotation_range=40,\n",
    "                                       #width_shift_range=0.2,\n",
    "                                       #height_shift_range=0.2,\n",
    "                                       #shear_range=0.2,\n",
    "                                       #zoom_range=0.2,\n",
    "                                       #brightness_range=[0.1,1],\n",
    "                                       #horizontal_flip=True,\n",
    "                                       #fill_mode='nearest'\n",
    "                                      )\n",
    "    \n",
    "    val_datagen = ImageDataGenerator(rescale=1.0/255.0)\n",
    "    \n",
    "    # prepare iterators\n",
    "    train_generator = train_datagen.flow_from_directory(os.path.join(img_root_dir, 'train'),\n",
    "                                                 class_mode='binary',\n",
    "                                                 color_mode='rgb',\n",
    "                                                 batch_size=batch_size,\n",
    "                                                 target_size=image_size)\n",
    "    \n",
    "    val_generator = val_datagen.flow_from_directory(os.path.join(img_root_dir, 'validation'),\n",
    "                                               class_mode='binary', \n",
    "                                               color_mode='rgb',\n",
    "                                               batch_size=batch_size, \n",
    "                                               target_size=image_size)\n",
    "    \n",
    "    # calculate class weights\n",
    "    counter = Counter(train_generator.classes)\n",
    "    max_val = float(max(counter.values()))\n",
    "    class_weights = {class_id : max_val/num_images for class_id, num_images in counter.items()}\n",
    "    \n",
    "    ### Debug info ###\n",
    "    print(f\"\\nClasses: {train_generator.class_indices}\")\n",
    "    print(f\"Class Weights: {class_weights}\")\n",
    "    print(f\"Class Distribution: {dict(counter)}\\n\")\n",
    "    # fit model\n",
    "    history = model.fit(train_generator, \n",
    "                        steps_per_epoch=len(train_generator), \n",
    "                        validation_data=val_generator, \n",
    "                        validation_steps=len(val_generator),\n",
    "                        class_weight=class_weights,\n",
    "                        epochs=epochs, \n",
    "                        verbose=verbose,\n",
    "                        callbacks=[\n",
    "                            #early_stopping,\n",
    "                            #tensorboard_callback,\n",
    "                        ])\n",
    "    \n",
    "    return model, history"
   ]
  },
  {
   "cell_type": "code",
   "execution_count": null,
   "id": "e2abf248",
   "metadata": {},
   "outputs": [],
   "source": [
    "model, history = run_test_harness(ROOT_DIR, IMAGE_SIZE)"
   ]
  }
 ],
 "metadata": {
  "kernelspec": {
   "display_name": "Python 3",
   "language": "python",
   "name": "python3"
  },
  "language_info": {
   "codemirror_mode": {
    "name": "ipython",
    "version": 3
   },
   "file_extension": ".py",
   "mimetype": "text/x-python",
   "name": "python",
   "nbconvert_exporter": "python",
   "pygments_lexer": "ipython3",
   "version": "3.7.10"
  }
 },
 "nbformat": 4,
 "nbformat_minor": 5
}
