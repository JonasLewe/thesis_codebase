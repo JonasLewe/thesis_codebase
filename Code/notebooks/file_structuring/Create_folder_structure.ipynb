{
 "cells": [
  {
   "cell_type": "code",
   "execution_count": 17,
   "id": "a5adaa8f",
   "metadata": {},
   "outputs": [],
   "source": [
    "import numpy as np\n",
    "from os import makedirs\n",
    "from os import listdir\n",
    "from shutil import move"
   ]
  },
  {
   "cell_type": "markdown",
   "id": "69d8bebd",
   "metadata": {},
   "source": [
    "### Create folder structure"
   ]
  },
  {
   "cell_type": "code",
   "execution_count": null,
   "id": "68ebe694",
   "metadata": {},
   "outputs": [],
   "source": [
    "# Already existing folder structure:\n",
    "# thin_section_dataset\n",
    "#     \\--- test\n",
    "#     \\--- train\n",
    "#     \\--- validation"
   ]
  },
  {
   "cell_type": "code",
   "execution_count": 2,
   "id": "6a0dd8f1",
   "metadata": {},
   "outputs": [],
   "source": [
    "# create directories\n",
    "dataset_home = 'thin_section_dataset/'\n",
    "subdirs = ['train/', 'validation/', 'test/']\n",
    "for subdir in subdirs:\n",
    "    # create label subdirectories\n",
    "    labeldirs = ['olivine/', 'non-olivine/']\n",
    "    for labeldir in labeldirs:\n",
    "        newdir = dataset_home + subdir + labeldir\n",
    "        makedirs(newdir, exist_ok=True)"
   ]
  },
  {
   "cell_type": "code",
   "execution_count": 16,
   "id": "7cead802",
   "metadata": {},
   "outputs": [],
   "source": [
    "src_directories = [dataset_home+'train/', dataset_home+'validation/', dataset_home+'test/']\n",
    "for src_dir in src_directories:\n",
    "    for file in listdir(src_dir):\n",
    "        src = src_dir + file\n",
    "        if file.endswith('_NOLV.jpg'):\n",
    "            dst = src_dir + 'non-olivine/'  + file\n",
    "            move(src, dst)\n",
    "        elif file.endswith('_OLV.jpg'):\n",
    "            dst = src_dir + 'olivine/'  + file\n",
    "            move(src, dst)"
   ]
  },
  {
   "cell_type": "code",
   "execution_count": null,
   "id": "ee3aea74",
   "metadata": {},
   "outputs": [],
   "source": []
  }
 ],
 "metadata": {
  "kernelspec": {
   "display_name": "Python 3",
   "language": "python",
   "name": "python3"
  },
  "language_info": {
   "codemirror_mode": {
    "name": "ipython",
    "version": 3
   },
   "file_extension": ".py",
   "mimetype": "text/x-python",
   "name": "python",
   "nbconvert_exporter": "python",
   "pygments_lexer": "ipython3",
   "version": "3.7.10"
  }
 },
 "nbformat": 4,
 "nbformat_minor": 5
}
